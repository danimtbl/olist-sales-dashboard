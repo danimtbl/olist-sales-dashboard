{
 "cells": [
  {
   "cell_type": "markdown",
   "id": "2bbc952f",
   "metadata": {},
   "source": [
    "# Dashboard de Performance de Vendas - Olist"
   ]
  },
  {
   "cell_type": "markdown",
   "id": "c327abf4",
   "metadata": {},
   "source": [
    "Este notebook apresenta os principais KPIs de vendas com base na base de dados do Olist."
   ]
  },
  {
   "cell_type": "code",
   "execution_count": null,
   "id": "f358ab81",
   "metadata": {},
   "outputs": [],
   "source": [
    "import pandas as pd\n",
    "\n",
    "orders = pd.DataFrame({\n",
    "    'order_id': ['o1', 'o2', 'o3', 'o4'],\n",
    "    'customer_id': ['c1', 'c2', 'c3', 'c1'],\n",
    "    'order_status': ['delivered', 'delivered', 'shipped', 'delivered'],\n",
    "    'order_purchase_timestamp': pd.to_datetime(['2021-01-10', '2021-01-15', '2021-01-20', '2021-01-30']),\n",
    "    'order_delivered_customer_date': pd.to_datetime(['2021-01-15', '2021-01-20', None, '2021-02-05']),\n",
    "    'order_estimated_delivery_date': pd.to_datetime(['2021-01-17', '2021-01-22', '2021-01-25', '2021-02-04']),\n",
    "})\n",
    "\n",
    "payments = pd.DataFrame({\n",
    "    'order_id': ['o1', 'o2', 'o3', 'o4'],\n",
    "    'payment_value': [100.00, 250.50, 150.75, 80.99]\n",
    "})\n",
    "\n",
    "df = pd.merge(orders, payments, on='order_id', how='left')\n",
    "df['tempo_entrega'] = (df['order_delivered_customer_date'] - df['order_purchase_timestamp']).dt.days\n",
    "df['atrasado'] = df['order_delivered_customer_date'] > df['order_estimated_delivery_date']\n",
    "df.head()"
   ]
  },
  {
   "cell_type": "markdown",
   "id": "8cbece13",
   "metadata": {},
   "source": [
    "## KPIs"
   ]
  },
  {
   "cell_type": "code",
   "execution_count": null,
   "id": "2822fb8f",
   "metadata": {},
   "outputs": [],
   "source": [
    "total_pedidos = df.shape[0]\n",
    "receita_total = df['payment_value'].sum()\n",
    "ticket_medio = df['payment_value'].mean()\n",
    "tempo_entrega_medio = df['tempo_entrega'].mean()\n",
    "percentual_atraso = df['atrasado'].mean() * 100\n",
    "\n",
    "print(f\"Total de Pedidos: {total_pedidos}\")\n",
    "print(f\"Receita Total: R$ {receita_total:.2f}\")\n",
    "print(f\"Ticket Médio: R$ {ticket_medio:.2f}\")\n",
    "print(f\"Tempo Médio de Entrega: {tempo_entrega_medio:.1f} dias\")\n",
    "print(f\"Percentual de Pedidos Atrasados: {percentual_atraso:.1f}%\")"
   ]
  },
  {
   "cell_type": "markdown",
   "id": "d739d6e9",
   "metadata": {},
   "source": [
    "## Visualizações"
   ]
  },
  {
   "cell_type": "code",
   "execution_count": null,
   "id": "b5a205f5",
   "metadata": {},
   "outputs": [],
   "source": [
    "import matplotlib.pyplot as plt\n",
    "import seaborn as sns\n",
    "\n",
    "sns.set(style=\"whitegrid\")\n",
    "\n",
    "# Valor pago por pedido\n",
    "plt.figure(figsize=(8, 4))\n",
    "sns.barplot(x='order_id', y='payment_value', data=df, palette='Blues_d')\n",
    "plt.title('Valor pago por pedido')\n",
    "plt.xlabel('ID do Pedido')\n",
    "plt.ylabel('Valor (R$)')\n",
    "plt.tight_layout()\n",
    "plt.show()"
   ]
  },
  {
   "cell_type": "code",
   "execution_count": null,
   "id": "f41eb6fb",
   "metadata": {},
   "outputs": [],
   "source": [
    "# Tempo de entrega por pedido\n",
    "plt.figure(figsize=(8, 4))\n",
    "sns.barplot(x='order_id', y='tempo_entrega', data=df, palette='Greens_d')\n",
    "plt.title('Tempo de entrega por pedido')\n",
    "plt.xlabel('ID do Pedido')\n",
    "plt.ylabel('Dias')\n",
    "plt.tight_layout()\n",
    "plt.show()"
   ]
  }
 ],
 "metadata": {},
 "nbformat": 4,
 "nbformat_minor": 5
}
